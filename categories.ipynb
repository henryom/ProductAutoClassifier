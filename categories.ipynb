{
 "cells": [
  {
   "cell_type": "markdown",
   "id": "584ca66a",
   "metadata": {},
   "source": [
    "Get products from Google Product Taxonomy"
   ]
  },
  {
   "cell_type": "code",
   "execution_count": 2,
   "id": "a1ed3634",
   "metadata": {},
   "outputs": [],
   "source": [
    "import os"
   ]
  },
  {
   "cell_type": "code",
   "execution_count": 3,
   "id": "4a2f0f26",
   "metadata": {},
   "outputs": [],
   "source": [
    "categories = set() # set of top level categories"
   ]
  },
  {
   "cell_type": "code",
   "execution_count": 4,
   "id": "8148359d",
   "metadata": {},
   "outputs": [
    {
     "name": "stdout",
     "output_type": "stream",
     "text": [
      "(1, 'Arts & Entertainment')\n",
      "(2, 'Software')\n",
      "(3, 'Vehicles & Parts')\n",
      "(4, 'Sporting Goods')\n",
      "(5, 'Health & Beauty')\n",
      "(6, 'Baby & Toddler')\n",
      "(7, 'Home & Garden')\n",
      "(8, 'Religious & Ceremonial')\n",
      "(9, 'Business & Industrial')\n",
      "(10, 'Media')\n",
      "(11, 'Mature')\n",
      "(12, 'Food, Beverages & Tobacco')\n",
      "(13, 'Electronics')\n",
      "(14, 'Office Supplies')\n",
      "(15, 'Apparel & Accessories')\n",
      "(16, 'Luggage & Bags')\n",
      "(17, 'Animals & Pet Supplies')\n",
      "(18, 'Toys & Games')\n",
      "(19, 'Hardware')\n",
      "(20, 'Cameras & Optics')\n",
      "(21, 'Furniture')\n"
     ]
    }
   ],
   "source": [
    "# extract top level categories (21)\n",
    "file = 'google_product_taxonomy.txt'\n",
    "with open(file) as gpt:\n",
    "    lines = gpt.readlines()\n",
    "    for line in lines:\n",
    "        level_1_cat = line.split('>')[0].strip(' ').strip('\\n')\n",
    "        categories.add(level_1_cat)\n",
    "        \n",
    "for index, cat in enumerate(categories):\n",
    "    print('(' + str(index + 1) + ', \\'' + cat + '\\')')"
   ]
  },
  {
   "cell_type": "code",
   "execution_count": 30,
   "id": "dfd3aa6e",
   "metadata": {},
   "outputs": [],
   "source": [
    "for cat in categories:\n",
    "    os.makedirs('data/train/' + cat, exist_ok=False)\n",
    "    os.makedirs('data/dev/' + cat, exist_ok=False)\n",
    "    os.makedirs('data/test/' + cat, exist_ok=False)"
   ]
  },
  {
   "cell_type": "code",
   "execution_count": null,
   "id": "5ab4d307",
   "metadata": {},
   "outputs": [],
   "source": []
  },
  {
   "cell_type": "code",
   "execution_count": null,
   "id": "7123b55f",
   "metadata": {},
   "outputs": [],
   "source": []
  },
  {
   "cell_type": "code",
   "execution_count": null,
   "id": "40498e75",
   "metadata": {},
   "outputs": [],
   "source": []
  }
 ],
 "metadata": {
  "kernelspec": {
   "display_name": "Python 3",
   "language": "python",
   "name": "python3"
  },
  "language_info": {
   "codemirror_mode": {
    "name": "ipython",
    "version": 3
   },
   "file_extension": ".py",
   "mimetype": "text/x-python",
   "name": "python",
   "nbconvert_exporter": "python",
   "pygments_lexer": "ipython3",
   "version": "3.9.1"
  }
 },
 "nbformat": 4,
 "nbformat_minor": 5
}
